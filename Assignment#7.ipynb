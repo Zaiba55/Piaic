{
 "cells": [
  {
   "cell_type": "code",
   "execution_count": 1,
   "metadata": {},
   "outputs": [
    {
     "name": "stdout",
     "output_type": "stream",
     "text": [
      "The numbers are: [4.0, 5.0, 6.0]\n",
      "The square of numbers: [16.0, 25.0, 36.0]\n",
      "Square stored in tuple: (4.0, 5.0, 6.0)\n",
      "4.0 is even number.\n",
      "5.0 is odd number.\n",
      "6.0 is even number.\n",
      "Sum of all number squares: 15.0\n",
      "15.0 is not a prime number.\n"
     ]
    }
   ],
   "source": [
    "\n",
    "list=[]\n",
    "for i in range(3):\n",
    "    num=float(input(f\"Enter number{i+1}:\"))\n",
    "    list.append(num)\n",
    "print(\"The numbers are:\",list) \n",
    "square=[num**2 for num in list]\n",
    "print(\"The square of numbers:\",square)\n",
    "a=tuple(list)\n",
    "print(\"Square stored in tuple:\",a)\n",
    "for i in range(len(list)):\n",
    "    if i%2==0:\n",
    "        print(f\"{list[i]} is even number.\")\n",
    "    else:\n",
    "        print(f\"{list[i]} is odd number.\")\n",
    "sum=sum(a)        \n",
    "print('Sum of all number squares:',sum) \n",
    "if sum <=1:\n",
    "    print(f\"{sum} is not prime number.\")\n",
    "else:\n",
    "    is_prime = True\n",
    "    for i in range(2, int(sum**0.5) + 1):\n",
    "        if sum % i == 0:\n",
    "            is_prime = False\n",
    "            break\n",
    "    if is_prime:\n",
    "        print(f\"{sum} is a prime number.\")\n",
    "    else:\n",
    "        print(f\"{sum} is not a prime number.\")    \n",
    "    \n",
    "        \n",
    "    \n",
    "    "
   ]
  }
 ],
 "metadata": {
  "kernelspec": {
   "display_name": "Python 3",
   "language": "python",
   "name": "python3"
  },
  "language_info": {
   "codemirror_mode": {
    "name": "ipython",
    "version": 3
   },
   "file_extension": ".py",
   "mimetype": "text/x-python",
   "name": "python",
   "nbconvert_exporter": "python",
   "pygments_lexer": "ipython3",
   "version": "3.12.4"
  }
 },
 "nbformat": 4,
 "nbformat_minor": 2
}
